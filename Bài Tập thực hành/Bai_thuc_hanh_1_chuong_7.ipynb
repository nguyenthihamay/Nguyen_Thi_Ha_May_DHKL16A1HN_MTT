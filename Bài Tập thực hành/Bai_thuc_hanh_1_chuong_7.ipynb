{
 "cells": [
  {
   "cell_type": "code",
   "execution_count": 1,
   "id": "9e8d25c8",
   "metadata": {},
   "outputs": [
    {
     "name": "stdout",
     "output_type": "stream",
     "text": [
      "Văn bản mã hóa (AES): b'l\\xf90m3g\\xd6\\x12\\xd1\\xf3t\\x8b\\xe0\\';T\\xa6\\xfa\\xcf\\xb0n\\xcb\\xbb:\\xa8v\\x91\\x9a\\xe2g\\x99]\\xc1U\\xd2o\\xc2\\x0f#9\\xc7\\xea\\t\\xef\\x19\\x89~UmTM\\xeb\"\\x05\\xbd\\xb5`\\x84\\xa9\\xdd\\xa2\"$9'\n",
      "Thời gian mã hóa AES: 0.0 giây\n",
      "Văn bản giải mã (AES): Hello, this is a test message for AES encryption!\n",
      "Thời gian giải mã AES: 0.0 giây\n"
     ]
    }
   ],
   "source": [
    "from Crypto.Cipher import AES\n",
    "from Crypto.Random import get_random_bytes\n",
    "from Crypto.Util.Padding import pad, unpad\n",
    "import time\n",
    "\n",
    "# Tạo khóa mã hóa 128-bit và khởi tạo AES\n",
    "key = get_random_bytes(16)\n",
    "cipher = AES.new(key, AES.MODE_CBC)\n",
    "\n",
    "plaintext = b\"Hello, this is a test message for AES encryption!\"\n",
    "\n",
    "# Đo thời gian mã hóa AES\n",
    "start_time = time.time()\n",
    "ciphertext = cipher.encrypt(pad(plaintext, AES.block_size))\n",
    "end_time = time.time()\n",
    "\n",
    "aes_encryption_time = end_time - start_time\n",
    "\n",
    "print(\"Văn bản mã hóa (AES):\", ciphertext)\n",
    "print(\"Thời gian mã hóa AES:\", aes_encryption_time, \"giây\")\n",
    "\n",
    "# Giải mã và đo thời gian giải mã AES\n",
    "start_time = time.time()\n",
    "decipher = AES.new(key, AES.MODE_CBC, cipher.iv)\n",
    "decrypted_text = unpad(decipher.decrypt(ciphertext), AES.block_size)\n",
    "end_time = time.time()\n",
    "aes_decryption_time = end_time - start_time\n",
    "\n",
    "print(\"Văn bản giải mã (AES):\", decrypted_text.decode())\n",
    "print(\"Thời gian giải mã AES:\", aes_decryption_time, \"giây\")\n"
   ]
  },
  {
   "cell_type": "code",
   "execution_count": 2,
   "id": "94ebeb4b",
   "metadata": {},
   "outputs": [
    {
     "name": "stdout",
     "output_type": "stream",
     "text": [
      "Khóa AES sau khi mã hóa bằng RSA: b't\\x1d\\xf8\\xbe\\x129_a\\x88\\xd3*E\\xa6\\xfe\\xb4a\\xf4\\xb0\\xccUO\\xe2}\\xe0]\\x91\\x96n\\x03\\xcf\\xa1Y\\xe8u\\x1c\\xaa\\xb9\\xb3\\xf6\\x1d\\xf2\\xdf~\\x14\\xf3\\xd0\\x17\\x84\\xb1:2\\xd2\\xfc\\x83\\xf1\\x90e\\xb7\\xc1\\x8f>~\\x08dM\\xcf\\xdf\\xfe\\xa3\\x92\\x89\\xf3 \\xda\\x83\\xf2\\xd4\\x9bKH\\xd1\\xb1\\xb5\\xae\\xe5\\xa6\\x03\\x8f\\t!\\x08\\xaa\\xc4\\xb5\\x95\\xa4h!\\xf8\\xcd\\xb7s\\xbfC\\x9d\\xb5\\xfa\\x91y\\xb3\\xacZbx\\xaf\\x805=Wy\\x0c\\xf4\\xb3\\xcf\\xe7os\\xae\\xdf1\\x9d\\x02%1)C:\\xca\\xefopu\\x93B\\xba\\xbeE^\\xf7\\xe8\\xa1\\x07\\xc7,~\\xa3\\xc6\\xa5 \\xaa{\\xab\\xe1\\x9a\\xb6s\\xa3\\xc5\\xd2\\xe0=\\x0c\\xfc9\\x80\\xff\\x1f*\\xac\\xbb\\xd14\\x1f\\xc3\\xcc\\xfb\\x91N\\xbdu\\x1d\\xe1\\x0b\\xd3C\\xf4\\xf2\\xe6}X\\x06\\x90\\xef\\x0f\\tid\\xd3\\xe2\\xb2\\xdc;{\\x99,I\\xf1\\xaf=\\xbd\\x9c\\x97\\xc9_A}0\\x9a\\x07\\xf1\\xc7\\x06\\xa2\\xfcTt\\x98z\\xec\\x83}T\\xa4GL\\xb1+\\xdd\\x8e?`\\xb0\\tr\\x98\\xff'\n",
      "Thời gian mã hóa RSA: 0.008366107940673828 giây\n",
      "Khóa AES sau khi giải mã: b'\\xf4\\xceWUF\\x95$\\x14\\xad\"~_ex\\x18\\xf9'\n",
      "Thời gian giải mã RSA: 0.008271932601928711 giây\n"
     ]
    }
   ],
   "source": [
    "from Crypto.PublicKey import RSA\n",
    "from Crypto.Cipher import PKCS1_OAEP\n",
    "\n",
    "# Tạo cặp khóa RSA\n",
    "key = RSA.generate(2048)\n",
    "private_key = key.export_key()\n",
    "public_key = key.publickey().export_key()\n",
    "\n",
    "# Mã hóa khóa AES bằng khóa công khai RSA và đo thời gian\n",
    "aes_key = get_random_bytes(16)\n",
    "cipher_rsa = PKCS1_OAEP.new(RSA.import_key(public_key))\n",
    "start_time = time.time()\n",
    "encrypted_aes_key = cipher_rsa.encrypt(aes_key)\n",
    "end_time = time.time()\n",
    "rsa_encryption_time = end_time - start_time\n",
    "\n",
    "print(\"Khóa AES sau khi mã hóa bằng RSA:\", encrypted_aes_key)\n",
    "print(\"Thời gian mã hóa RSA:\", rsa_encryption_time, \"giây\")\n",
    "\n",
    "# Giải mã khóa AES bằng khóa bí mật RSA và đo thời gian\n",
    "decipher_rsa = PKCS1_OAEP.new(RSA.import_key(private_key))\n",
    "\n",
    "start_time = time.time()\n",
    "decrypted_aes_key = decipher_rsa.decrypt(encrypted_aes_key)\n",
    "end_time = time.time()\n",
    "rsa_decryption_time = end_time - start_time\n",
    "\n",
    "print(\"Khóa AES sau khi giải mã:\", decrypted_aes_key)\n",
    "print(\"Thời gian giải mã RSA:\", rsa_decryption_time, \"giây\")\n"
   ]
  },
  {
   "cell_type": "code",
   "execution_count": 3,
   "id": "b64a53d7",
   "metadata": {},
   "outputs": [
    {
     "name": "stdout",
     "output_type": "stream",
     "text": [
      "Khóa AES sau khi giải mã: b'\\xf4\\xceWUF\\x95$\\x14\\xad\"~_ex\\x18\\xf9'\n",
      "Thời gian giải mã RSA: 0.008271932601928711 giây\n"
     ]
    }
   ],
   "source": [
    "from Crypto.PublicKey import RSA\n",
    "from Crypto.Cipher import PKCS1_OAEP\n",
    "\n",
    "# Tạo cặp khóa RSA\n",
    "key = RSA.generate(2048)\n",
    "private_key = key.export_key()\n",
    "public_key = key.publickey().export_key()\n",
    "\n",
    "# Mã hóa khóa AES bằng khóa công khai RSA và đo thời gian\n",
    "aes_key = get_random_bytes(16)\n",
    "cipher_rsa = PKCS1_OAEP.new(RSA.import_key(public_key))\n",
    "\n",
    "start_time = time.time()\n",
    "\n",
    "print(\"Khóa AES sau khi giải mã:\", decrypted_aes_key)\n",
    "print(\"Thời gian giải mã RSA:\", rsa_decryption_time, \"giây\")\n"
   ]
  },
  {
   "cell_type": "code",
   "execution_count": 5,
   "id": "1ebc87e2",
   "metadata": {},
   "outputs": [
    {
     "name": "stdout",
     "output_type": "stream",
     "text": [
      "----- So sánh thời gian mã hóa -----\n",
      "Thời gian mã hóa AES: 0.000000 giây\n",
      "Thời gian mã hóa RSA: 0.008366 giây\n",
      "\n",
      "----- So sánh thời gian giải mã -----\n",
      "Thời gian giải mã AES: 0.000000 giây\n",
      "Thời gian giải mã RSA: 0.008272 giây\n",
      "\n",
      "Mã hóa AES nhanh hơn mã hóa RSA\n",
      "Giải mã AES nhanh hơn giải mã RSA\n"
     ]
    }
   ],
   "source": [
    "print(\"----- So sánh thời gian mã hóa -----\")\n",
    "print(f\"Thời gian mã hóa AES: {aes_encryption_time:.6f} giây\")\n",
    "print(f\"Thời gian mã hóa RSA: {rsa_encryption_time:.6f} giây\")\n",
    "\n",
    "print(\"\\n----- So sánh thời gian giải mã -----\")\n",
    "print(f\"Thời gian giải mã AES: {aes_decryption_time:.6f} giây\")\n",
    "print(f\"Thời gian giải mã RSA: {rsa_decryption_time:.6f} giây\")\n",
    "\n",
    "if aes_encryption_time < rsa_encryption_time:\n",
    "    print(\"\\nMã hóa AES nhanh hơn mã hóa RSA\")\n",
    "else:\n",
    "    print(\"\\nMã hóa RSA nhanh hơn mã hóa AES\")\n",
    "\n",
    "if aes_decryption_time < rsa_decryption_time:\n",
    "    print(\"Giải mã AES nhanh hơn giải mã RSA\")\n",
    "else:\n",
    "    print(\"Giải mã RSA nhanh hơn giải mã AES\")"
   ]
  }
 ],
 "metadata": {
  "kernelspec": {
   "display_name": "notebook",
   "language": "python",
   "name": "python3"
  },
  "language_info": {
   "codemirror_mode": {
    "name": "ipython",
    "version": 3
   },
   "file_extension": ".py",
   "mimetype": "text/x-python",
   "name": "python",
   "nbconvert_exporter": "python",
   "pygments_lexer": "ipython3",
   "version": "3.12.9"
  }
 },
 "nbformat": 4,
 "nbformat_minor": 5
}
