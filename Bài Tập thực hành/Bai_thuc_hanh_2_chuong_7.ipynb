{
 "cells": [
  {
   "cell_type": "markdown",
   "id": "2b594963",
   "metadata": {},
   "source": [
    "# Bước 1: Mã hóa và giải mã bằng AES (Mã hóa đối xứng) "
   ]
  },
  {
   "cell_type": "code",
   "execution_count": 2,
   "id": "4c313622",
   "metadata": {},
   "outputs": [
    {
     "name": "stdout",
     "output_type": "stream",
     "text": [
      "Văn bản mã hóa (AES): b'n\\x1e\\xa4\\xe6gQ\\x8e\\x16a\\xfdkW`B\\xf2c\\x9e)\\x85\\x1b\\x87\\x0f\\xd1]g\\x90\\x95\\xaa\\x83\\x8a\\x8e\"\"\\xb8\\xb4ix\\x9d\\x05\\xfd\\xb6\\xd9]3\\xec\\xfe\\xe3~\\xca\\x9e\\xa2\\xca\\xc6\\x82\\x82\\xb3\\x83\\xa9\\x13Hi|D\\xa7'\n",
      "Thời gian mã hóa AES: 0.007179975509643555 giây\n",
      "Văn bản giải mã (AES): Hello, this is a test message for AES encryption!\n",
      "Thời gian giải mã AES: 0.0 giây\n"
     ]
    }
   ],
   "source": [
    "from Crypto.Cipher import AES \n",
    "from Crypto.Random import get_random_bytes \n",
    "from Crypto.Util.Padding import pad, unpad \n",
    "import time \n",
    " \n",
    "# Tạo khóa mã hóa 128-bit và khởi tạo AES \n",
    "key = get_random_bytes(16) \n",
    "cipher = AES.new(key, AES.MODE_CBC) \n",
    " \n",
    "plaintext = b\"Hello, this is a test message for AES encryption!\" \n",
    " \n",
    "# Đo thời gian mã hóa AES \n",
    "start_time = time.time() \n",
    "ciphertext = cipher.encrypt(pad(plaintext, AES.block_size)) \n",
    "end_time = time.time() \n",
    "aes_encryption_time = end_time - start_time \n",
    " \n",
    "print(\"Văn bản mã hóa (AES):\", ciphertext) \n",
    "print(\"Thời gian mã hóa AES:\", aes_encryption_time, \"giây\") \n",
    " \n",
    "# Giải mã và đo thời gian giải mã AES \n",
    "start_time = time.time() \n",
    "decipher = AES.new(key, AES.MODE_CBC, cipher.iv) \n",
    "decrypted_text = unpad(decipher.decrypt(ciphertext), AES.block_size) \n",
    "end_time = time.time() \n",
    "aes_decryption_time = end_time - start_time \n",
    " \n",
    "print(\"Văn bản giải mã (AES):\", decrypted_text.decode()) \n",
    "print(\"Thời gian giải mã AES:\", aes_decryption_time, \"giây\") "
   ]
  },
  {
   "cell_type": "markdown",
   "id": "210618b5",
   "metadata": {},
   "source": [
    "# Bước 2: Mã hóa và giải mã bằng RSA (Mã hóa bất đối xứng) "
   ]
  },
  {
   "cell_type": "code",
   "execution_count": 3,
   "id": "2a8f6aa3",
   "metadata": {},
   "outputs": [
    {
     "name": "stdout",
     "output_type": "stream",
     "text": [
      "Khóa AES sau khi mã hóa bằng RSA: b\"\\x9d\\x94\\xe6\\x15\\x82MK1g\\xbdR\\xedH]\\xa7`^\\xee#[n?\\xfd\\xff`\\xc3\\x0fp\\xf6\\xba\\xb3\\xf6AThCdI\\xeb\\x8c\\x02|a\\x8e\\xc0]\\xce\\xf9\\xbe\\xbfy\\xb6\\xa2S\\xe3^\\xc4\\xa4-\\xd2+,\\xedv\\x17\\xe5\\x90\\xbd\\x1a\\xe3\\xdf@l\\xb4\\x9f\\xb2[\\x81\\xbf\\x06\\x86\\xfc[\\x85\\x1b\\x07%\\x90\\x07i\\xea\\xc2g\\xa2\\xee\\xfau\\xf9\\x12\\xb1e6\\x92\\xb8\\t\\x80\\xcd\\xcaJ\\xe22\\xd3$\\xa7\\x9d\\xb4\\xe1\\xe5r_\\xec\\xda\\x9f\\x18IQ\\xf9\\xf3~+\\xaa/\\x85\\x89\\xb8~\\x9d\\x86C\\xed.\\x8c2\\x1b\\xcf:\\xa7\\x13s+\\xdb'\\xfa\\x99\\x86\\xa9\\xd6\\x004m\\xf3&\\x89e\\x84{u\\xfd\\xb2g\\xb2i\\x84\\xd5\\x95\\xf6\\x85\\xba\\xdcW-\\xa3p\\xfc\\xf6;\\xb1\\x0e\\x87L\\x9d\\x84\\x9f\\xb8GC\\xd6U\\xb4\\x93\\xdfX\\xcdI;2\\xc6\\x1f\\xfb\\x1d\\x08\\xefH\\xa0\\xc5\\x15y7fuY\\x0b\\xe9\\xa1\\xbd\\x9d\\x93!\\x9ffz\\xe8\\x80~P\\x93\\x8b\\xeff\\xcd*zZ\\xce\\x19\\xdc\\x84\\xa5\\x7fV4\\x7f[\\x9f0-\"\n",
      "Thời gian mã hóa RSA: 0.012993335723876953 giây\n",
      "Khóa AES sau khi giải mã: b\"\\xde\\xcc\\x98\\xcb\\x06\\xbaD'}\\x8e\\x10%\\xf2|\\xd7\\x08\"\n",
      "Thời gian giải mã RSA: 0.017020225524902344 giây\n"
     ]
    }
   ],
   "source": [
    "from Crypto.PublicKey import RSA \n",
    "from Crypto.Cipher import PKCS1_OAEP \n",
    " \n",
    "# Tạo cặp khóa RSA \n",
    "key = RSA.generate(2048) \n",
    "private_key = key.export_key() \n",
    "public_key = key.publickey().export_key() \n",
    " \n",
    "# Mã hóa khóa AES bằng khóa công khai RSA và đo thời gian \n",
    "aes_key = get_random_bytes(16) \n",
    "cipher_rsa = PKCS1_OAEP.new(RSA.import_key(public_key)) \n",
    " \n",
    "start_time = time.time() \n",
    "encrypted_aes_key = cipher_rsa.encrypt(aes_key) \n",
    "end_time = time.time() \n",
    "rsa_encryption_time = end_time - start_time \n",
    " \n",
    "print(\"Khóa AES sau khi mã hóa bằng RSA:\", encrypted_aes_key) \n",
    "print(\"Thời gian mã hóa RSA:\", rsa_encryption_time, \"giây\") \n",
    " \n",
    "# Giải mã khóa AES bằng khóa bí mật RSA và đo thời gian \n",
    "decipher_rsa = PKCS1_OAEP.new(RSA.import_key(private_key)) \n",
    " \n",
    "start_time = time.time() \n",
    "decrypted_aes_key = decipher_rsa.decrypt(encrypted_aes_key) \n",
    "end_time = time.time() \n",
    "rsa_decryption_time = end_time - start_time \n",
    " \n",
    "print(\"Khóa AES sau khi giải mã:\", decrypted_aes_key) \n",
    "print(\"Thời gian giải mã RSA:\", rsa_decryption_time, \"giây\") "
   ]
  },
  {
   "cell_type": "markdown",
   "id": "c12fc34b",
   "metadata": {},
   "source": [
    "# Bước 3: So sánh thời gian thực thi giữa AES và RSA "
   ]
  },
  {
   "cell_type": "code",
   "execution_count": 5,
   "id": "5015d50c",
   "metadata": {},
   "outputs": [
    {
     "name": "stdout",
     "output_type": "stream",
     "text": [
      "Khóa AES sau khi giải mã: b\"\\xde\\xcc\\x98\\xcb\\x06\\xbaD'}\\x8e\\x10%\\xf2|\\xd7\\x08\"\n",
      "Thời gian giải mã RSA: 0.017020225524902344 giây\n"
     ]
    }
   ],
   "source": [
    "from Crypto.PublicKey import RSA \n",
    "from Crypto.Cipher import PKCS1_OAEP \n",
    "# Tạo cặp khóa RSA \n",
    "key = RSA.generate(2048) \n",
    "private_key = key.export_key() \n",
    "public_key = key.publickey().export_key() \n",
    "start_time = time.time() \n",
    "# Mã hóa khóa AES bằng khóa công khai RSA và đo thời gian \n",
    "aes_key = get_random_bytes(16) \n",
    "cipher_rsa = PKCS1_OAEP.new(RSA.import_key(public_key)) \n",
    "print(\"Khóa AES sau khi giải mã:\", decrypted_aes_key) \n",
    "print(\"Thời gian giải mã RSA:\", rsa_decryption_time, \"giây\") "
   ]
  },
  {
   "cell_type": "markdown",
   "id": "3f917881",
   "metadata": {},
   "source": [
    "# Chuong 2:"
   ]
  },
  {
   "cell_type": "code",
   "execution_count": 6,
   "id": "bdbfa7cc",
   "metadata": {},
   "outputs": [
    {
     "name": "stdout",
     "output_type": "stream",
     "text": [
      "Xác thực thất bại!\n"
     ]
    }
   ],
   "source": [
    "import hashlib \n",
    " \n",
    "# Mật khẩu lưu trữ dưới dạng mã băm SHA-256 \n",
    "stored_password = hashlib.sha256(b\"mypassword\").hexdigest() \n",
    " \n",
    "# Yêu cầu người dùng nhập mật khẩu \n",
    "password = input(\"Nhập mật khẩu: \") \n",
    "hashed_password = hashlib.sha256(password.encode()).hexdigest() \n",
    " \n",
    "if hashed_password == stored_password: \n",
    "    print(\"Xác thực thành công!\") \n",
    "else: \n",
    "    print(\"Xác thực thất bại!\")"
   ]
  },
  {
   "cell_type": "code",
   "execution_count": 7,
   "id": "e50ad6c2",
   "metadata": {},
   "outputs": [
    {
     "name": "stdout",
     "output_type": "stream",
     "text": [
      "Mã OTP của bạn là: 498338\n",
      "Xác thực thất bại!\n"
     ]
    }
   ],
   "source": [
    "import pyotp \n",
    "import time \n",
    " \n",
    "# Tạo khóa bí mật và mã OTP \n",
    "secret = pyotp.random_base32() \n",
    "totp = pyotp.TOTP(secret) \n",
    " \n",
    "print(\"Mã OTP của bạn là:\", totp.now()) \n",
    " \n",
    "# Yêu cầu nhập mã OTP \n",
    "otp_input = input(\"Nhập mã OTP: \") \n",
    " \n",
    "if totp.verify(otp_input): \n",
    "    print(\"Xác thực thành công!\") \n",
    "else: \n",
    "    print(\"Xác thực thất bại!\") "
   ]
  },
  {
   "cell_type": "code",
   "execution_count": null,
   "id": "3824aedc",
   "metadata": {},
   "outputs": [
    {
     "name": "stdout",
     "output_type": "stream",
     "text": [
      "Xác thực mật khẩu thất bại!\n",
      "Mã OTP của bạn là: 862561\n",
      "Xác thực bước 2, mã OTP thất bại!\n"
     ]
    },
    {
     "ename": "",
     "evalue": "",
     "output_type": "error",
     "traceback": [
      "\u001b[1;31mThe Kernel crashed while executing code in the current cell or a previous cell. \n",
      "\u001b[1;31mPlease review the code in the cell(s) to identify a possible cause of the failure. \n",
      "\u001b[1;31mClick <a href='https://aka.ms/vscodeJupyterKernelCrash'>here</a> for more info. \n",
      "\u001b[1;31mView Jupyter <a href='command:jupyter.viewOutput'>log</a> for further details."
     ]
    }
   ],
   "source": [
    "import hashlib \n",
    "import pyotp \n",
    "import time \n",
    " \n",
    "# Bước 1: Xác thực bằng mật khẩu \n",
    "stored_password = hashlib.sha256(b\"mypassword\").hexdigest()  # \n",
    "# Mật khẩu lưu trữ dưới dạng mã băm SHA-256 \n",
    "\n",
    "password = input(\"Nhập mật khẩu: \") \n",
    "hashed_password = hashlib.sha256(password.encode()).hexdigest() \n",
    " \n",
    "if hashed_password == stored_password: \n",
    "    print(\"Xác thực mật khẩu thành công! Chuyển sang bước xác thực bằng mã OTP.\") \n",
    "else: \n",
    "    print(\"Xác thực mật khẩu thất bại!\") \n",
    "    exit()  # Thoát chương trình nếu sai mật khẩu \n",
    " \n",
    "# Bước 2: Xác thực bằng mã OTP nếu mật khẩu đúng \n",
    "# Tạo khóa bí mật và mã OTP \n",
    "secret = pyotp.random_base32() \n",
    "totp = pyotp.TOTP(secret) \n",
    " \n",
    "# In mã OTP (trong thực tế sẽ được gửi qua SMS hoặc Email) \n",
    "print(\"Mã OTP của bạn là:\", totp.now()) \n",
    " \n",
    "# Yêu cầu người dùng nhập mã OTP \n",
    "otp_input = input(\"Nhập mã OTP: \") \n",
    " \n",
    "if totp.verify(otp_input): \n",
    "    print(\"Xác thực hai yếu tố thành công!\") \n",
    "else: \n",
    "    print(\"Xác thực bước 2, mã OTP thất bại!\")"
   ]
  }
 ],
 "metadata": {
  "kernelspec": {
   "display_name": "Python 3",
   "language": "python",
   "name": "python3"
  },
  "language_info": {
   "codemirror_mode": {
    "name": "ipython",
    "version": 3
   },
   "file_extension": ".py",
   "mimetype": "text/x-python",
   "name": "python",
   "nbconvert_exporter": "python",
   "pygments_lexer": "ipython3",
   "version": "3.10.6"
  }
 },
 "nbformat": 4,
 "nbformat_minor": 5
}
