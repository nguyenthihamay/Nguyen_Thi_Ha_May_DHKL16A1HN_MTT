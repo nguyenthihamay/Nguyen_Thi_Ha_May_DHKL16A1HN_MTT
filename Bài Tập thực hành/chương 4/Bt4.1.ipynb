{
 "cells": [
  {
   "cell_type": "code",
   "execution_count": 1,
   "id": "ef6701f9",
   "metadata": {},
   "outputs": [],
   "source": [
    "import hashlib\n",
    "import time"
   ]
  },
  {
   "cell_type": "code",
   "execution_count": 2,
   "id": "63033fd6",
   "metadata": {},
   "outputs": [],
   "source": [
    "class Block:\n",
    "    def __init__(self, message, previous_hash):\n",
    "        self.timestamp = time.time()\n",
    "        self.message = message\n",
    "        self.previous_hash = previous_hash\n",
    "        self.hash = self.calculate_hash()\n",
    "    \n",
    "    def calculate_hash(self):\n",
    "        block_data = str(self.timestamp) + self.message + self.previous_hash\n",
    "        return hashlib.sha256(block_data.encode()).hexdigest()\n",
    "\n",
    "    def __str__(self):\n",
    "        return f\"Timestamp: {self.timestamp}\\nMessage: {self.message}\\nPrevious Hash: {self.previous_hash}\\nHash: {self.hash}\\n\"\n",
    "\n",
    "# Khởi tạo chuỗi Blockchain gồm 3 khối\n",
    "genesis_block = Block(\"Đây là khối khởi nguyên (Genesis Block)\", \"0\")\n",
    "block_1 = Block(\"Giao dịch: A gửi 10 token cho B\", genesis_block.hash)\n",
    "block_2 = Block(\"Giao dịch: B gửi 5 token cho C\", block_1.hash)\n"
   ]
  },
  {
   "cell_type": "code",
   "execution_count": 3,
   "id": "2ca06757",
   "metadata": {},
   "outputs": [
    {
     "name": "stdout",
     "output_type": "stream",
     "text": [
      "CHUỖI BLOCKCHAIN BAN ĐẦU:\n",
      "Timestamp: 1745367654.0228462\n",
      "Message: Đây là khối khởi nguyên (Genesis Block)\n",
      "Previous Hash: 0\n",
      "Hash: 03f5d3f1754c8078c5cb1d0a6ceac15801b40032f6e2a5dff95217a614216a80\n",
      "\n",
      "Timestamp: 1745367654.0228462\n",
      "Message: Giao dịch: A gửi 10 token cho B\n",
      "Previous Hash: 03f5d3f1754c8078c5cb1d0a6ceac15801b40032f6e2a5dff95217a614216a80\n",
      "Hash: 28af82424df152a11785847777da097bf3ffb7a9d3e3c20970d3ebab6a1f5827\n",
      "\n",
      "Timestamp: 1745367654.0228462\n",
      "Message: Giao dịch: B gửi 5 token cho C\n",
      "Previous Hash: 28af82424df152a11785847777da097bf3ffb7a9d3e3c20970d3ebab6a1f5827\n",
      "Hash: faabffb00d125f96285f293e47e4054edd32ad141a04ba72144f26f7aff94206\n",
      "\n"
     ]
    }
   ],
   "source": [
    "# In chuỗi khối ban đầu\n",
    "print(\"CHUỖI BLOCKCHAIN BAN ĐẦU:\")\n",
    "print(genesis_block)\n",
    "print(block_1)\n",
    "print(block_2)"
   ]
  },
  {
   "cell_type": "code",
   "execution_count": 4,
   "id": "07fcd25c",
   "metadata": {},
   "outputs": [
    {
     "name": "stdout",
     "output_type": "stream",
     "text": [
      "THAY ĐỔI DỮ LIỆU KHỐI GIỮA:\n"
     ]
    }
   ],
   "source": [
    "# Thử thay đổi thông điệp ở block_1\n",
    "print(\"THAY ĐỔI DỮ LIỆU KHỐI GIỮA:\")\n",
    "block_1.message = \"Giao dịch: A gửi 100 token cho B (BỊ SỬA)\"\n",
    "block_1.hash = block_1.calculate_hash()  # Tính lại mã băm sau khi sửa"
   ]
  },
  {
   "cell_type": "code",
   "execution_count": null,
   "id": "4de36256",
   "metadata": {},
   "outputs": [],
   "source": [
    "# In lại chuỗi sau khi sửa\n",
    "print(genesis_block)\n",
    "print(block_1)\n",
    "print(block_2)"
   ]
  },
  {
   "cell_type": "code",
   "execution_count": 5,
   "id": "e1f1999b",
   "metadata": {},
   "outputs": [
    {
     "name": "stdout",
     "output_type": "stream",
     "text": [
      "⚠️ Chuỗi khối bị phá vỡ! Khối 2 không còn liên kết hợp lệ với khối 1.\n"
     ]
    }
   ],
   "source": [
    "# Quan sát: block_2 vẫn giữ previous_hash cũ, không khớp với hash mới của block_1 → phá vỡ chuỗi\n",
    "if block_2.previous_hash != block_1.hash:\n",
    "    print(\"⚠️ Chuỗi khối bị phá vỡ! Khối 2 không còn liên kết hợp lệ với khối 1.\")"
   ]
  },
  {
   "cell_type": "code",
   "execution_count": null,
   "id": "6f8d3c63",
   "metadata": {},
   "outputs": [],
   "source": [
    "\n",
    "\n",
    "\n",
    "\n",
    "\n",
    "\n",
    "\n",
    "\n",
    "\n",
    "\n"
   ]
  }
 ],
 "metadata": {
  "kernelspec": {
   "display_name": "base",
   "language": "python",
   "name": "python3"
  },
  "language_info": {
   "codemirror_mode": {
    "name": "ipython",
    "version": 3
   },
   "file_extension": ".py",
   "mimetype": "text/x-python",
   "name": "python",
   "nbconvert_exporter": "python",
   "pygments_lexer": "ipython3",
   "version": "3.11.5"
  }
 },
 "nbformat": 4,
 "nbformat_minor": 5
}
