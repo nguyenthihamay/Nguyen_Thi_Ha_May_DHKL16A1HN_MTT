{
 "cells": [
  {
   "cell_type": "code",
   "execution_count": 1,
   "id": "3a0f242f",
   "metadata": {},
   "outputs": [
    {
     "name": "stdout",
     "output_type": "stream",
     "text": [
      "Requirement already satisfied: web3 in c:\\users\\acer\\anaconda3\\lib\\site-packages (7.10.0)\n",
      "Requirement already satisfied: py-solc-x in c:\\users\\acer\\anaconda3\\lib\\site-packages (2.0.3)\n",
      "Requirement already satisfied: eth-abi>=5.0.1 in c:\\users\\acer\\anaconda3\\lib\\site-packages (from web3) (5.2.0)\n",
      "Requirement already satisfied: eth-account>=0.13.1 in c:\\users\\acer\\anaconda3\\lib\\site-packages (from web3) (0.13.6)\n",
      "Requirement already satisfied: eth-hash[pycryptodome]>=0.5.1 in c:\\users\\acer\\anaconda3\\lib\\site-packages (from web3) (0.7.1)\n",
      "Requirement already satisfied: eth-typing>=5.0.0 in c:\\users\\acer\\anaconda3\\lib\\site-packages (from web3) (5.2.1)\n",
      "Requirement already satisfied: eth-utils>=5.0.0 in c:\\users\\acer\\anaconda3\\lib\\site-packages (from web3) (5.3.0)\n",
      "Requirement already satisfied: hexbytes>=1.2.0 in c:\\users\\acer\\anaconda3\\lib\\site-packages (from web3) (1.3.0)\n",
      "Requirement already satisfied: aiohttp>=3.7.4.post0 in c:\\users\\acer\\anaconda3\\lib\\site-packages (from web3) (3.8.5)\n",
      "Requirement already satisfied: pydantic>=2.4.0 in c:\\users\\acer\\anaconda3\\lib\\site-packages (from web3) (2.11.3)\n",
      "Requirement already satisfied: pywin32>=223 in c:\\users\\acer\\anaconda3\\lib\\site-packages (from web3) (305.1)\n",
      "Requirement already satisfied: requests>=2.23.0 in c:\\users\\acer\\anaconda3\\lib\\site-packages (from web3) (2.31.0)\n",
      "Requirement already satisfied: typing-extensions>=4.0.1 in c:\\users\\acer\\anaconda3\\lib\\site-packages (from web3) (4.13.2)\n",
      "Requirement already satisfied: types-requests>=2.0.0 in c:\\users\\acer\\anaconda3\\lib\\site-packages (from web3) (2.32.0.20250328)\n",
      "Requirement already satisfied: websockets<16.0.0,>=10.0.0 in c:\\users\\acer\\anaconda3\\lib\\site-packages (from web3) (15.0.1)\n",
      "Requirement already satisfied: pyunormalize>=15.0.0 in c:\\users\\acer\\anaconda3\\lib\\site-packages (from web3) (16.0.0)\n",
      "Requirement already satisfied: packaging<24,>=23.1 in c:\\users\\acer\\anaconda3\\lib\\site-packages (from py-solc-x) (23.1)\n",
      "Requirement already satisfied: attrs>=17.3.0 in c:\\users\\acer\\anaconda3\\lib\\site-packages (from aiohttp>=3.7.4.post0->web3) (22.1.0)\n",
      "Requirement already satisfied: charset-normalizer<4.0,>=2.0 in c:\\users\\acer\\anaconda3\\lib\\site-packages (from aiohttp>=3.7.4.post0->web3) (2.0.4)\n",
      "Requirement already satisfied: multidict<7.0,>=4.5 in c:\\users\\acer\\anaconda3\\lib\\site-packages (from aiohttp>=3.7.4.post0->web3) (6.0.2)\n",
      "Requirement already satisfied: async-timeout<5.0,>=4.0.0a3 in c:\\users\\acer\\anaconda3\\lib\\site-packages (from aiohttp>=3.7.4.post0->web3) (4.0.2)\n",
      "Requirement already satisfied: yarl<2.0,>=1.0 in c:\\users\\acer\\anaconda3\\lib\\site-packages (from aiohttp>=3.7.4.post0->web3) (1.8.1)\n",
      "Requirement already satisfied: frozenlist>=1.1.1 in c:\\users\\acer\\anaconda3\\lib\\site-packages (from aiohttp>=3.7.4.post0->web3) (1.3.3)\n",
      "Requirement already satisfied: aiosignal>=1.1.2 in c:\\users\\acer\\anaconda3\\lib\\site-packages (from aiohttp>=3.7.4.post0->web3) (1.2.0)\n",
      "Requirement already satisfied: parsimonious<0.11.0,>=0.10.0 in c:\\users\\acer\\anaconda3\\lib\\site-packages (from eth-abi>=5.0.1->web3) (0.10.0)\n",
      "Requirement already satisfied: bitarray>=2.4.0 in c:\\users\\acer\\anaconda3\\lib\\site-packages (from eth-account>=0.13.1->web3) (3.3.1)\n",
      "Requirement already satisfied: eth-keyfile<0.9.0,>=0.7.0 in c:\\users\\acer\\anaconda3\\lib\\site-packages (from eth-account>=0.13.1->web3) (0.8.1)\n",
      "Requirement already satisfied: eth-keys>=0.4.0 in c:\\users\\acer\\anaconda3\\lib\\site-packages (from eth-account>=0.13.1->web3) (0.7.0)\n",
      "Requirement already satisfied: eth-rlp>=2.1.0 in c:\\users\\acer\\anaconda3\\lib\\site-packages (from eth-account>=0.13.1->web3) (2.2.0)\n",
      "Requirement already satisfied: rlp>=1.0.0 in c:\\users\\acer\\anaconda3\\lib\\site-packages (from eth-account>=0.13.1->web3) (4.1.0)\n",
      "Requirement already satisfied: ckzg>=2.0.0 in c:\\users\\acer\\anaconda3\\lib\\site-packages (from eth-account>=0.13.1->web3) (2.1.1)\n",
      "Requirement already satisfied: pycryptodome<4,>=3.6.6 in c:\\users\\acer\\anaconda3\\lib\\site-packages (from eth-hash[pycryptodome]>=0.5.1->web3) (3.22.0)\n",
      "Requirement already satisfied: cytoolz>=0.10.1 in c:\\users\\acer\\anaconda3\\lib\\site-packages (from eth-utils>=5.0.0->web3) (0.12.0)\n",
      "Requirement already satisfied: annotated-types>=0.6.0 in c:\\users\\acer\\anaconda3\\lib\\site-packages (from pydantic>=2.4.0->web3) (0.7.0)\n",
      "Requirement already satisfied: pydantic-core==2.33.1 in c:\\users\\acer\\anaconda3\\lib\\site-packages (from pydantic>=2.4.0->web3) (2.33.1)\n",
      "Requirement already satisfied: typing-inspection>=0.4.0 in c:\\users\\acer\\anaconda3\\lib\\site-packages (from pydantic>=2.4.0->web3) (0.4.0)\n",
      "Requirement already satisfied: idna<4,>=2.5 in c:\\users\\acer\\anaconda3\\lib\\site-packages (from requests>=2.23.0->web3) (3.4)\n",
      "Requirement already satisfied: urllib3<3,>=1.21.1 in c:\\users\\acer\\anaconda3\\lib\\site-packages (from requests>=2.23.0->web3) (2.4.0)\n",
      "Requirement already satisfied: certifi>=2017.4.17 in c:\\users\\acer\\anaconda3\\lib\\site-packages (from requests>=2.23.0->web3) (2025.1.31)\n",
      "Requirement already satisfied: toolz>=0.8.0 in c:\\users\\acer\\anaconda3\\lib\\site-packages (from cytoolz>=0.10.1->eth-utils>=5.0.0->web3) (0.12.0)\n",
      "Requirement already satisfied: regex>=2022.3.15 in c:\\users\\acer\\anaconda3\\lib\\site-packages (from parsimonious<0.11.0,>=0.10.0->eth-abi>=5.0.1->web3) (2022.7.9)\n"
     ]
    }
   ],
   "source": [
    "!pip install web3 py-solc-x\n"
   ]
  },
  {
   "cell_type": "code",
   "execution_count": 2,
   "id": "f24a3ba6",
   "metadata": {},
   "outputs": [],
   "source": [
    "from web3 import Web3\n",
    "from solcx import compile_source, install_solc"
   ]
  },
  {
   "cell_type": "code",
   "execution_count": null,
   "id": "fc67a406",
   "metadata": {},
   "outputs": [],
   "source": [
    "# Cài compiler nếu chưa có\n",
    "install_solc('0.8.0')\n"
   ]
  },
  {
   "cell_type": "code",
   "execution_count": 4,
   "id": "e0335d90",
   "metadata": {},
   "outputs": [],
   "source": [
    "# Kết nối Ganache\n",
    "w3 = Web3(Web3.HTTPProvider(\"HTTP://127.0.0.1:7545\"))\n",
    "w3.eth.default_account = w3.eth.accounts[0]\n"
   ]
  },
  {
   "cell_type": "code",
   "execution_count": 5,
   "id": "bde4d33c",
   "metadata": {},
   "outputs": [],
   "source": [
    "# Solidity code (có thể đọc từ file)\n",
    "contract_source_code = '''\n",
    "pragma solidity ^0.8.0;\n",
    "\n",
    "contract MessageStorage {\n",
    "    string public message;\n",
    "\n",
    "    constructor(string memory _message) {\n",
    "        message = _message;\n",
    "    }\n",
    "\n",
    "    function setMessage(string memory _newMessage) public {\n",
    "        message = _newMessage;\n",
    "    }\n",
    "\n",
    "    function getMessage() public view returns (string memory) {\n",
    "        return message;\n",
    "    }\n",
    "}\n",
    "'''"
   ]
  },
  {
   "cell_type": "code",
   "execution_count": 7,
   "id": "0670fd46",
   "metadata": {},
   "outputs": [
    {
     "data": {
      "text/plain": [
       "<Version('0.8.0')>"
      ]
     },
     "execution_count": 7,
     "metadata": {},
     "output_type": "execute_result"
    }
   ],
   "source": [
    "from solcx import install_solc\n",
    "install_solc('0.8.0')"
   ]
  },
  {
   "cell_type": "code",
   "execution_count": 9,
   "id": "3894e92e",
   "metadata": {},
   "outputs": [],
   "source": [
    "from solcx import set_solc_version\n",
    "set_solc_version('0.8.0')   # Dùng đúng phiên bản\n"
   ]
  },
  {
   "cell_type": "code",
   "execution_count": 10,
   "id": "a25f9117",
   "metadata": {},
   "outputs": [],
   "source": [
    "# Biên dịch contract\n",
    "compiled_sol = compile_source(contract_source_code, output_values=[\"abi\", \"bin\"])\n",
    "contract_id, contract_interface = compiled_sol.popitem()\n",
    "abi = contract_interface['abi']\n",
    "bytecode = contract_interface['bin']\n",
    "\n",
    "# Triển khai hợp đồng\n",
    "MessageStorage = w3.eth.contract(abi=abi, bytecode=bytecode)\n",
    "tx_hash = MessageStorage.constructor(\"Chào Blockchain!\").transact()\n",
    "tx_receipt = w3.eth.wait_for_transaction_receipt(tx_hash)\n",
    "contract_address = tx_receipt.contractAddress"
   ]
  },
  {
   "cell_type": "code",
   "execution_count": 11,
   "id": "c08ea75b",
   "metadata": {},
   "outputs": [
    {
     "name": "stdout",
     "output_type": "stream",
     "text": [
      "Hợp đồng đã triển khai tại địa chỉ: 0x7D9C0fe2727804E8bE48c9Ac477912FB84841F7F\n"
     ]
    }
   ],
   "source": [
    "# Biên dịch contract\n",
    "compiled_sol = compile_source(contract_source_code, output_values=[\"abi\", \"bin\"])\n",
    "contract_id, contract_interface = compiled_sol.popitem()\n",
    "abi = contract_interface['abi']\n",
    "bytecode = contract_interface['bin']\n",
    "\n",
    "# Triển khai hợp đồng\n",
    "MessageStorage = w3.eth.contract(abi=abi, bytecode=bytecode)\n",
    "tx_hash = MessageStorage.constructor(\"Chào Blockchain!\").transact()\n",
    "tx_receipt = w3.eth.wait_for_transaction_receipt(tx_hash)\n",
    "contract_address = tx_receipt.contractAddress\n",
    "\n",
    "print(\"Hợp đồng đã triển khai tại địa chỉ:\", contract_address)"
   ]
  },
  {
   "cell_type": "code",
   "execution_count": 12,
   "id": "c0789db0",
   "metadata": {},
   "outputs": [
    {
     "name": "stdout",
     "output_type": "stream",
     "text": [
      "Thông điệp ban đầu: Chào Blockchain!\n"
     ]
    }
   ],
   "source": [
    "# Tương tác với hợp đồng\n",
    "contract_instance = w3.eth.contract(address=contract_address, abi=abi)\n",
    "\n",
    "# Đọc thông điệp ban đầu\n",
    "print(\"Thông điệp ban đầu:\", contract_instance.functions.getMessage().call())"
   ]
  },
  {
   "cell_type": "code",
   "execution_count": 13,
   "id": "445a85e1",
   "metadata": {},
   "outputs": [
    {
     "name": "stdout",
     "output_type": "stream",
     "text": [
      "Thông điệp sau cập nhật: Blockchain là tương lai!\n"
     ]
    }
   ],
   "source": [
    "# Gửi thông điệp mới\n",
    "tx_hash = contract_instance.functions.setMessage(\"Blockchain là tương lai!\").transact()\n",
    "w3.eth.wait_for_transaction_receipt(tx_hash)\n",
    "\n",
    "# Đọc lại thông điệp\n",
    "print(\"Thông điệp sau cập nhật:\", contract_instance.functions.getMessage().call())"
   ]
  }
 ],
 "metadata": {
  "kernelspec": {
   "display_name": "base",
   "language": "python",
   "name": "python3"
  },
  "language_info": {
   "codemirror_mode": {
    "name": "ipython",
    "version": 3
   },
   "file_extension": ".py",
   "mimetype": "text/x-python",
   "name": "python",
   "nbconvert_exporter": "python",
   "pygments_lexer": "ipython3",
   "version": "3.11.5"
  }
 },
 "nbformat": 4,
 "nbformat_minor": 5
}
