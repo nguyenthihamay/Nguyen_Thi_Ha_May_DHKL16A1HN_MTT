{
 "cells": [
  {
   "cell_type": "code",
   "execution_count": 1,
   "id": "36b1fe34",
   "metadata": {},
   "outputs": [],
   "source": [
    "import hashlib"
   ]
  },
  {
   "cell_type": "code",
   "execution_count": 2,
   "id": "d4665e3f",
   "metadata": {},
   "outputs": [],
   "source": [
    "def sha256_hash(data):\n",
    "    return hashlib.sha256(data.encode()).hexdigest()\n",
    "\n",
    "# Nhập chuỗi từ người dùng\n",
    "original_text = input(\"Nhập chuỗi ban đầu (ví dụ: 'Học phần Mạng máy tính'): \")\n",
    "\n",
    "# Tạo một bản sao với thay đổi 1 ký tự đầu (nếu có)\n",
    "if len(original_text) > 0:\n",
    "    modified_text = original_text[0].swapcase() + original_text[1:]\n",
    "else:\n",
    "    modified_text = original_text\n",
    "\n",
    "# Tính mã băm cho cả hai chuỗi\n",
    "original_hash = sha256_hash(original_text)\n",
    "modified_hash = sha256_hash(modified_text)"
   ]
  },
  {
   "cell_type": "code",
   "execution_count": 3,
   "id": "912a907f",
   "metadata": {},
   "outputs": [
    {
     "name": "stdout",
     "output_type": "stream",
     "text": [
      "\n",
      "===== KẾT QUẢ =====\n",
      "Chuỗi gốc     : Học phần Mạng máy tính\n",
      "SHA-256 Hash  : 65c684ecb5b1be63ed30fed125ee8ac1842cdc1b87f32a0772309f174608b2b2\n",
      "\n",
      "Chuỗi thay đổi: học phần Mạng máy tính\n",
      "SHA-256 Hash  : 8680700564cc492cb87a9d854fb9115e9cec7ac0af2d91a1f8a62db1d2ce77dc\n",
      "\n",
      "Nhận xét (theo Chương 4 - Blockchain):\n",
      "- Tính chất 'nhạy cảm với đầu vào' (Avalanche Effect) của SHA-256 khiến chỉ cần 1 thay đổi nhỏ như viết hoa/thường khác nhau cũng làm toàn bộ mã băm thay đổi.\n",
      "- Đây là một đặc điểm then chốt giúp Blockchain phát hiện mọi thay đổi, đảm bảo tính toàn vẹn dữ liệu.\n"
     ]
    }
   ],
   "source": [
    "# Hiển thị kết quả\n",
    "print(\"\\n===== KẾT QUẢ =====\")\n",
    "print(\"Chuỗi gốc     :\", original_text)\n",
    "print(\"SHA-256 Hash  :\", original_hash)\n",
    "\n",
    "print(\"\\nChuỗi thay đổi:\", modified_text)\n",
    "print(\"SHA-256 Hash  :\", modified_hash)\n",
    "\n",
    "# Nhận xét từ lý thuyết chương 4\n",
    "print(\"\\nNhận xét (theo Chương 4 - Blockchain):\")\n",
    "print(\"- Tính chất 'nhạy cảm với đầu vào' (Avalanche Effect) của SHA-256 khiến chỉ cần 1 thay đổi nhỏ như viết hoa/thường khác nhau cũng làm toàn bộ mã băm thay đổi.\")\n",
    "print(\"- Đây là một đặc điểm then chốt giúp Blockchain phát hiện mọi thay đổi, đảm bảo tính toàn vẹn dữ liệu.\")"
   ]
  }
 ],
 "metadata": {
  "kernelspec": {
   "display_name": "base",
   "language": "python",
   "name": "python3"
  },
  "language_info": {
   "codemirror_mode": {
    "name": "ipython",
    "version": 3
   },
   "file_extension": ".py",
   "mimetype": "text/x-python",
   "name": "python",
   "nbconvert_exporter": "python",
   "pygments_lexer": "ipython3",
   "version": "3.11.5"
  }
 },
 "nbformat": 4,
 "nbformat_minor": 5
}
